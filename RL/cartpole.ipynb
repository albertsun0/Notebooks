{
 "cells": [
  {
   "cell_type": "markdown",
   "metadata": {},
   "source": [
    "## Reinforcement learning\n",
    "\n",
    "Computational approach to learning how to maximize rewards in an environment\n",
    "\n",
    "Reinforcment learning is\n",
    "- A subfield of AI/ML\n",
    "- Unsupervised - agents learn through trial and error\n",
    "- Capable of continuous learning, starting from randomness and adapting\n",
    "\n",
    "Steps\n",
    "- Agent recieves observation, or information about the environment\n",
    "- Takes an action\n",
    "- Recieves a reward for the action\n",
    "\n",
    "Repeated trials are called an episode\n",
    "\n",
    "Goal for agent - which actions or sequence of actions maximized long-term, cumulative rewards "
   ]
  },
  {
   "cell_type": "markdown",
   "metadata": {},
   "source": [
    "In the Cartpole example, the goal of the agent is to keep a pole on a cart upright. The pendulum starts upright, and the agent can either increase or decrease the cart's velocity. "
   ]
  },
  {
   "cell_type": "code",
   "execution_count": null,
   "metadata": {},
   "outputs": [],
   "source": [
    "%pip install swig \"gymnasium[box2d]\""
   ]
  },
  {
   "cell_type": "code",
   "execution_count": 5,
   "metadata": {},
   "outputs": [
    {
     "data": {
      "text/plain": [
       "Discrete(2)"
      ]
     },
     "execution_count": 5,
     "metadata": {},
     "output_type": "execute_result"
    }
   ],
   "source": [
    "import gymnasium as gym\n",
    "env = gym.make(\"CartPole-v1\")\n",
    "\n",
    "# The agent has two descrete actions, move the cart left or right\n",
    "env.action_space"
   ]
  },
  {
   "cell_type": "code",
   "execution_count": 6,
   "metadata": {},
   "outputs": [
    {
     "data": {
      "text/plain": [
       "(array([ 0.02205218,  0.04795693,  0.0033714 , -0.01564198], dtype=float32),\n",
       " {})"
      ]
     },
     "execution_count": 6,
     "metadata": {},
     "output_type": "execute_result"
    }
   ],
   "source": [
    "# the observation space contains 4 variables\n",
    "\n",
    "# [ 0.03053875,  0.02172747,  0.03731125, -0.01627455]\n",
    "# cart position, cart velocity, pole angle, pole angular velocity\n",
    "\n",
    "# these values will get updated at every timestep\n",
    "env.reset()"
   ]
  },
  {
   "cell_type": "code",
   "execution_count": 8,
   "metadata": {},
   "outputs": [
    {
     "name": "stdout",
     "output_type": "stream",
     "text": [
      "0 [-0.0021715   0.19471528 -0.02677305 -0.34592897] 1.0 False False {}\n",
      "1 [ 0.00172281  0.39020762 -0.03369163 -0.6469327 ] 1.0 False False {}\n",
      "2 [ 0.00952696  0.1955709  -0.04663029 -0.36504683] 1.0 False False {}\n",
      "3 [ 0.01343838  0.00114158 -0.05393122 -0.08742418] 1.0 False False {}\n",
      "4 [ 0.01346121  0.19699344 -0.0556797  -0.39662293] 1.0 False False {}\n",
      "5 [ 0.01740108  0.39285934 -0.06361216 -0.70632786] 1.0 False False {}\n",
      "6 [ 0.02525827  0.5888023  -0.07773872 -1.0183371 ] 1.0 False False {}\n",
      "7 [ 0.03703431  0.7848695  -0.09810546 -1.3343819 ] 1.0 False False {}\n",
      "8 [ 0.0527317   0.59111136 -0.1247931  -1.0739391 ] 1.0 False False {}\n",
      "9 [ 0.06455393  0.39783967 -0.14627188 -0.82287997] 1.0 False False {}\n",
      "10 [ 0.07251072  0.20498915 -0.16272949 -0.57954407] 1.0 False False {}\n",
      "11 [ 0.07661051  0.4019725  -0.17432037 -0.91874707] 1.0 False False {}\n",
      "12 [ 0.08464996  0.20958084 -0.1926953  -0.6855242 ] 1.0 False False {}\n",
      "13 [ 0.08884157  0.40678144 -0.20640579 -1.0321528 ] 1.0 False False {}\n",
      "14 [ 0.0969772   0.60396117 -0.22704884 -1.3818977 ] 1.0 True False {}\n"
     ]
    }
   ],
   "source": [
    "env.reset()\n",
    "\n",
    "episode_over = False\n",
    "step = 0\n",
    "while not episode_over:\n",
    "    action = env.action_space.sample()  # agent policy that uses the observation and info\n",
    "    observation, reward, terminated, truncated, info = env.step(action)\n",
    "    print(step, observation, reward, terminated, truncated, info)\n",
    "    step += 1\n",
    "    episode_over = terminated or truncated\n",
    "\n",
    "# env.close()\n",
    "\n",
    "# This specifc environemnt is solvable. When done is True, it means the end of episode\n",
    "# Either the agent has reached the solved state\n",
    "# Or it failed to solve the environment, pole has tipped over, cart is out of bounds, episode limit reached"
   ]
  },
  {
   "cell_type": "code",
   "execution_count": 9,
   "metadata": {},
   "outputs": [
    {
     "name": "stdout",
     "output_type": "stream",
     "text": [
      "Defaulting to user installation because normal site-packages is not writeable\n",
      "Collecting tensorflow\n",
      "  Downloading tensorflow-2.17.0-cp39-cp39-macosx_12_0_arm64.whl.metadata (4.1 kB)\n",
      "Requirement already satisfied: torch in /Users/albertsun/Library/Python/3.9/lib/python/site-packages (2.1.1)\n",
      "Collecting ray[rllib]\n",
      "  Downloading ray-2.37.0-cp39-cp39-macosx_11_0_arm64.whl.metadata (16 kB)\n",
      "Requirement already satisfied: click>=7.0 in /Users/albertsun/Library/Python/3.9/lib/python/site-packages (from ray[rllib]) (8.1.3)\n",
      "Requirement already satisfied: filelock in /Users/albertsun/Library/Python/3.9/lib/python/site-packages (from ray[rllib]) (3.12.4)\n",
      "Requirement already satisfied: jsonschema in /Users/albertsun/Library/Python/3.9/lib/python/site-packages (from ray[rllib]) (4.20.0)\n",
      "Collecting msgpack<2.0.0,>=1.0.0 (from ray[rllib])\n",
      "  Downloading msgpack-1.1.0-cp39-cp39-macosx_11_0_arm64.whl.metadata (8.4 kB)\n",
      "Requirement already satisfied: packaging in /Users/albertsun/Library/Python/3.9/lib/python/site-packages (from ray[rllib]) (23.1)\n",
      "Requirement already satisfied: protobuf!=3.19.5,>=3.15.3 in /Users/albertsun/Library/Python/3.9/lib/python/site-packages (from ray[rllib]) (4.23.1)\n",
      "Requirement already satisfied: pyyaml in /Users/albertsun/Library/Python/3.9/lib/python/site-packages (from ray[rllib]) (6.0.1)\n",
      "Requirement already satisfied: aiosignal in /Users/albertsun/Library/Python/3.9/lib/python/site-packages (from ray[rllib]) (1.3.1)\n",
      "Requirement already satisfied: frozenlist in /Users/albertsun/Library/Python/3.9/lib/python/site-packages (from ray[rllib]) (1.4.0)\n",
      "Requirement already satisfied: requests in /Users/albertsun/Library/Python/3.9/lib/python/site-packages (from ray[rllib]) (2.31.0)\n",
      "Requirement already satisfied: pandas in /Users/albertsun/Library/Python/3.9/lib/python/site-packages (from ray[rllib]) (2.1.3)\n",
      "Collecting tensorboardX>=1.9 (from ray[rllib])\n",
      "  Downloading tensorboardX-2.6.2.2-py2.py3-none-any.whl.metadata (5.8 kB)\n",
      "Requirement already satisfied: pyarrow>=6.0.1 in /Users/albertsun/Library/Python/3.9/lib/python/site-packages (from ray[rllib]) (14.0.1)\n",
      "Requirement already satisfied: fsspec in /Users/albertsun/Library/Python/3.9/lib/python/site-packages (from ray[rllib]) (2023.10.0)\n",
      "Requirement already satisfied: dm-tree in /Users/albertsun/Library/Python/3.9/lib/python/site-packages (from ray[rllib]) (0.1.8)\n",
      "Collecting gymnasium==0.28.1 (from ray[rllib])\n",
      "  Downloading gymnasium-0.28.1-py3-none-any.whl.metadata (9.2 kB)\n",
      "Collecting lz4 (from ray[rllib])\n",
      "  Downloading lz4-4.3.3-cp39-cp39-macosx_11_0_arm64.whl.metadata (3.7 kB)\n",
      "Collecting scikit-image (from ray[rllib])\n",
      "  Downloading scikit_image-0.24.0-cp39-cp39-macosx_12_0_arm64.whl.metadata (14 kB)\n",
      "Requirement already satisfied: scipy in /Users/albertsun/Library/Python/3.9/lib/python/site-packages (from ray[rllib]) (1.10.1)\n",
      "Collecting typer (from ray[rllib])\n",
      "  Downloading typer-0.12.5-py3-none-any.whl.metadata (15 kB)\n",
      "Collecting rich (from ray[rllib])\n",
      "  Downloading rich-13.9.2-py3-none-any.whl.metadata (18 kB)\n",
      "Requirement already satisfied: numpy>=1.21.0 in /Users/albertsun/Library/Python/3.9/lib/python/site-packages (from gymnasium==0.28.1->ray[rllib]) (1.24.3)\n",
      "Collecting jax-jumpy>=1.0.0 (from gymnasium==0.28.1->ray[rllib])\n",
      "  Downloading jax_jumpy-1.0.0-py3-none-any.whl.metadata (15 kB)\n",
      "Requirement already satisfied: cloudpickle>=1.2.0 in /Users/albertsun/Library/Python/3.9/lib/python/site-packages (from gymnasium==0.28.1->ray[rllib]) (3.1.0)\n",
      "Requirement already satisfied: typing-extensions>=4.3.0 in /Users/albertsun/Library/Python/3.9/lib/python/site-packages (from gymnasium==0.28.1->ray[rllib]) (4.9.0)\n",
      "Requirement already satisfied: farama-notifications>=0.0.1 in /Users/albertsun/Library/Python/3.9/lib/python/site-packages (from gymnasium==0.28.1->ray[rllib]) (0.0.4)\n",
      "Requirement already satisfied: importlib-metadata>=4.8.0 in /Users/albertsun/Library/Python/3.9/lib/python/site-packages (from gymnasium==0.28.1->ray[rllib]) (6.8.0)\n",
      "Requirement already satisfied: absl-py>=1.0.0 in /Users/albertsun/Library/Python/3.9/lib/python/site-packages (from tensorflow) (1.4.0)\n",
      "Requirement already satisfied: astunparse>=1.6.0 in /Users/albertsun/Library/Python/3.9/lib/python/site-packages (from tensorflow) (1.6.3)\n",
      "Collecting flatbuffers>=24.3.25 (from tensorflow)\n",
      "  Downloading flatbuffers-24.3.25-py2.py3-none-any.whl.metadata (850 bytes)\n",
      "Requirement already satisfied: gast!=0.5.0,!=0.5.1,!=0.5.2,>=0.2.1 in /Users/albertsun/Library/Python/3.9/lib/python/site-packages (from tensorflow) (0.4.0)\n",
      "Requirement already satisfied: google-pasta>=0.1.1 in /Users/albertsun/Library/Python/3.9/lib/python/site-packages (from tensorflow) (0.2.0)\n",
      "Collecting h5py>=3.10.0 (from tensorflow)\n",
      "  Downloading h5py-3.12.1-cp39-cp39-macosx_11_0_arm64.whl.metadata (2.5 kB)\n",
      "Requirement already satisfied: libclang>=13.0.0 in /Users/albertsun/Library/Python/3.9/lib/python/site-packages (from tensorflow) (16.0.0)\n",
      "Collecting ml-dtypes<0.5.0,>=0.3.1 (from tensorflow)\n",
      "  Downloading ml_dtypes-0.4.1-cp39-cp39-macosx_10_9_universal2.whl.metadata (20 kB)\n",
      "Requirement already satisfied: opt-einsum>=2.3.2 in /Users/albertsun/Library/Python/3.9/lib/python/site-packages (from tensorflow) (3.3.0)\n",
      "Requirement already satisfied: setuptools in /Users/albertsun/Library/Python/3.9/lib/python/site-packages (from tensorflow) (60.10.0)\n",
      "Requirement already satisfied: six>=1.12.0 in /Users/albertsun/Library/Python/3.9/lib/python/site-packages (from tensorflow) (1.16.0)\n",
      "Requirement already satisfied: termcolor>=1.1.0 in /Users/albertsun/Library/Python/3.9/lib/python/site-packages (from tensorflow) (2.3.0)\n",
      "Requirement already satisfied: wrapt>=1.11.0 in /Users/albertsun/Library/Python/3.9/lib/python/site-packages (from tensorflow) (1.14.1)\n",
      "Requirement already satisfied: grpcio<2.0,>=1.24.3 in /Users/albertsun/Library/Python/3.9/lib/python/site-packages (from tensorflow) (1.54.2)\n",
      "Collecting tensorboard<2.18,>=2.17 (from tensorflow)\n",
      "  Downloading tensorboard-2.17.1-py3-none-any.whl.metadata (1.6 kB)\n",
      "Collecting keras>=3.2.0 (from tensorflow)\n",
      "  Downloading keras-3.6.0-py3-none-any.whl.metadata (5.8 kB)\n",
      "Collecting tensorflow-io-gcs-filesystem>=0.23.1 (from tensorflow)\n",
      "  Downloading tensorflow_io_gcs_filesystem-0.37.1-cp39-cp39-macosx_12_0_arm64.whl.metadata (14 kB)\n",
      "Requirement already satisfied: sympy in /Users/albertsun/Library/Python/3.9/lib/python/site-packages (from torch) (1.12)\n",
      "Requirement already satisfied: networkx in /Users/albertsun/Library/Python/3.9/lib/python/site-packages (from torch) (3.2.1)\n",
      "Requirement already satisfied: jinja2 in /Users/albertsun/Library/Python/3.9/lib/python/site-packages (from torch) (3.1.2)\n",
      "Requirement already satisfied: wheel<1.0,>=0.23.0 in /Users/albertsun/Library/Python/3.9/lib/python/site-packages (from astunparse>=1.6.0->tensorflow) (0.37.1)\n",
      "Collecting namex (from keras>=3.2.0->tensorflow)\n",
      "  Downloading namex-0.0.8-py3-none-any.whl.metadata (246 bytes)\n",
      "Collecting optree (from keras>=3.2.0->tensorflow)\n",
      "  Downloading optree-0.13.0-cp39-cp39-macosx_11_0_arm64.whl.metadata (47 kB)\n",
      "\u001b[2K     \u001b[90m━━━━━━━━━━━━━━━━━━━━━━━━━━━━━━━━━━━━━━━━\u001b[0m \u001b[32m47.8/47.8 kB\u001b[0m \u001b[31m2.2 MB/s\u001b[0m eta \u001b[36m0:00:00\u001b[0m\n",
      "\u001b[?25hRequirement already satisfied: charset-normalizer<4,>=2 in /Users/albertsun/Library/Python/3.9/lib/python/site-packages (from requests->ray[rllib]) (3.1.0)\n",
      "Requirement already satisfied: idna<4,>=2.5 in /Users/albertsun/Library/Python/3.9/lib/python/site-packages (from requests->ray[rllib]) (3.4)\n",
      "Requirement already satisfied: urllib3<3,>=1.21.1 in /Users/albertsun/Library/Python/3.9/lib/python/site-packages (from requests->ray[rllib]) (1.26.16)\n",
      "Requirement already satisfied: certifi>=2017.4.17 in /Users/albertsun/Library/Python/3.9/lib/python/site-packages (from requests->ray[rllib]) (2023.5.7)\n",
      "Requirement already satisfied: markdown>=2.6.8 in /Users/albertsun/Library/Python/3.9/lib/python/site-packages (from tensorboard<2.18,>=2.17->tensorflow) (3.4.3)\n",
      "Collecting tensorboard-data-server<0.8.0,>=0.7.0 (from tensorboard<2.18,>=2.17->tensorflow)\n",
      "  Downloading tensorboard_data_server-0.7.2-py3-none-any.whl.metadata (1.1 kB)\n",
      "Requirement already satisfied: werkzeug>=1.0.1 in /Users/albertsun/Library/Python/3.9/lib/python/site-packages (from tensorboard<2.18,>=2.17->tensorflow) (2.2.2)\n",
      "Requirement already satisfied: MarkupSafe>=2.0 in /Users/albertsun/Library/Python/3.9/lib/python/site-packages (from jinja2->torch) (2.1.2)\n",
      "Requirement already satisfied: attrs>=22.2.0 in /Users/albertsun/Library/Python/3.9/lib/python/site-packages (from jsonschema->ray[rllib]) (23.1.0)\n",
      "Requirement already satisfied: jsonschema-specifications>=2023.03.6 in /Users/albertsun/Library/Python/3.9/lib/python/site-packages (from jsonschema->ray[rllib]) (2023.11.1)\n",
      "Requirement already satisfied: referencing>=0.28.4 in /Users/albertsun/Library/Python/3.9/lib/python/site-packages (from jsonschema->ray[rllib]) (0.31.0)\n",
      "Requirement already satisfied: rpds-py>=0.7.1 in /Users/albertsun/Library/Python/3.9/lib/python/site-packages (from jsonschema->ray[rllib]) (0.13.0)\n",
      "Requirement already satisfied: python-dateutil>=2.8.2 in /Users/albertsun/Library/Python/3.9/lib/python/site-packages (from pandas->ray[rllib]) (2.8.2)\n",
      "Requirement already satisfied: pytz>=2020.1 in /Users/albertsun/Library/Python/3.9/lib/python/site-packages (from pandas->ray[rllib]) (2023.3.post1)\n",
      "Requirement already satisfied: tzdata>=2022.1 in /Users/albertsun/Library/Python/3.9/lib/python/site-packages (from pandas->ray[rllib]) (2023.3)\n",
      "Collecting markdown-it-py>=2.2.0 (from rich->ray[rllib])\n",
      "  Downloading markdown_it_py-3.0.0-py3-none-any.whl.metadata (6.9 kB)\n",
      "Requirement already satisfied: pygments<3.0.0,>=2.13.0 in /Users/albertsun/Library/Python/3.9/lib/python/site-packages (from rich->ray[rllib]) (2.17.2)\n",
      "Requirement already satisfied: pillow>=9.1 in /Users/albertsun/Library/Python/3.9/lib/python/site-packages (from scikit-image->ray[rllib]) (10.1.0)\n",
      "Requirement already satisfied: imageio>=2.33 in /Users/albertsun/Library/Python/3.9/lib/python/site-packages (from scikit-image->ray[rllib]) (2.36.0)\n",
      "Collecting tifffile>=2022.8.12 (from scikit-image->ray[rllib])\n",
      "  Downloading tifffile-2024.8.30-py3-none-any.whl.metadata (31 kB)\n",
      "Collecting lazy-loader>=0.4 (from scikit-image->ray[rllib])\n",
      "  Downloading lazy_loader-0.4-py3-none-any.whl.metadata (7.6 kB)\n",
      "Requirement already satisfied: mpmath>=0.19 in /Users/albertsun/Library/Python/3.9/lib/python/site-packages (from sympy->torch) (1.3.0)\n",
      "Collecting shellingham>=1.3.0 (from typer->ray[rllib])\n",
      "  Downloading shellingham-1.5.4-py2.py3-none-any.whl.metadata (3.5 kB)\n",
      "Requirement already satisfied: zipp>=0.5 in /Users/albertsun/Library/Python/3.9/lib/python/site-packages (from importlib-metadata>=4.8.0->gymnasium==0.28.1->ray[rllib]) (3.15.0)\n",
      "Collecting mdurl~=0.1 (from markdown-it-py>=2.2.0->rich->ray[rllib])\n",
      "  Downloading mdurl-0.1.2-py3-none-any.whl.metadata (1.6 kB)\n",
      "Downloading gymnasium-0.28.1-py3-none-any.whl (925 kB)\n",
      "\u001b[2K   \u001b[90m━━━━━━━━━━━━━━━━━━━━━━━━━━━━━━━━━━━━━━━━\u001b[0m \u001b[32m925.5/925.5 kB\u001b[0m \u001b[31m3.9 MB/s\u001b[0m eta \u001b[36m0:00:00\u001b[0ma \u001b[36m0:00:01\u001b[0m\n",
      "\u001b[?25hDownloading tensorflow-2.17.0-cp39-cp39-macosx_12_0_arm64.whl (236.1 MB)\n",
      "\u001b[2K   \u001b[91m━━━━━━━━━━━━━━━━━━━━━━━━━━━━━━━━━\u001b[0m\u001b[90m╺\u001b[0m\u001b[90m━━━━━━\u001b[0m \u001b[32m195.7/236.1 MB\u001b[0m \u001b[31m4.6 MB/s\u001b[0m eta \u001b[36m0:00:09\u001b[0m^C\n",
      "\u001b[2K   \u001b[91m━━━━━━━━━━━━━━━━━━━━━━━━━━━━━━━━━\u001b[0m\u001b[90m╺\u001b[0m\u001b[90m━━━━━━\u001b[0m \u001b[32m196.1/236.1 MB\u001b[0m \u001b[31m4.5 MB/s\u001b[0m eta \u001b[36m0:00:09\u001b[0m\n",
      "\u001b[?25h\u001b[31mERROR: Operation cancelled by user\u001b[0m\u001b[31m\n",
      "\u001b[0m\n",
      "\u001b[1m[\u001b[0m\u001b[34;49mnotice\u001b[0m\u001b[1;39;49m]\u001b[0m\u001b[39;49m A new release of pip is available: \u001b[0m\u001b[31;49m24.0\u001b[0m\u001b[39;49m -> \u001b[0m\u001b[32;49m24.2\u001b[0m\n",
      "\u001b[1m[\u001b[0m\u001b[34;49mnotice\u001b[0m\u001b[1;39;49m]\u001b[0m\u001b[39;49m To update, run: \u001b[0m\u001b[32;49m/Library/Developer/CommandLineTools/usr/bin/python3 -m pip install --upgrade pip\u001b[0m\n",
      "Note: you may need to restart the kernel to use updated packages.\n"
     ]
    },
    {
     "ename": "",
     "evalue": "",
     "output_type": "error",
     "traceback": [
      "\u001b[1;31mThe Kernel crashed while executing code in the current cell or a previous cell. \n",
      "\u001b[1;31mPlease review the code in the cell(s) to identify a possible cause of the failure. \n",
      "\u001b[1;31mClick <a href='https://aka.ms/vscodeJupyterKernelCrash'>here</a> for more info. \n",
      "\u001b[1;31mView Jupyter <a href='command:jupyter.viewOutput'>log</a> for further details."
     ]
    }
   ],
   "source": [
    "%pip install \"ray[rllib]\" tensorflow torch\n"
   ]
  },
  {
   "cell_type": "code",
   "execution_count": null,
   "metadata": {},
   "outputs": [],
   "source": []
  }
 ],
 "metadata": {
  "kernelspec": {
   "display_name": "Python 3",
   "language": "python",
   "name": "python3"
  },
  "language_info": {
   "codemirror_mode": {
    "name": "ipython",
    "version": 3
   },
   "file_extension": ".py",
   "mimetype": "text/x-python",
   "name": "python",
   "nbconvert_exporter": "python",
   "pygments_lexer": "ipython3",
   "version": "3.9.6"
  }
 },
 "nbformat": 4,
 "nbformat_minor": 2
}
