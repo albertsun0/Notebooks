{
 "cells": [
  {
   "cell_type": "code",
   "execution_count": 53,
   "metadata": {},
   "outputs": [],
   "source": [
    "import numpy as np\n",
    "import matplotlib.pyplot as plt\n",
    "import math\n",
    "%matplotlib inline"
   ]
  },
  {
   "cell_type": "code",
   "execution_count": null,
   "metadata": {},
   "outputs": [],
   "source": [
    "from sklearn.datasets import make_blobs\n",
    "from sklearn.preprocessing import StandardScaler\n",
    "\n",
    "centers = [[1, 1], [-1, -1], [1, -1]]\n",
    "X, labels_true = make_blobs(\n",
    "    n_samples=750, centers=centers, cluster_std=0.4, random_state=0\n",
    ")\n",
    "\n",
    "X = StandardScaler().fit_transform(X)\n",
    "\n",
    "x = X[:, 0]\n",
    "y = X[:, 1]\n",
    "\n",
    "n = len(x)\n",
    "plt.scatter(x, y)\n",
    "plt.show()"
   ]
  },
  {
   "cell_type": "code",
   "execution_count": 71,
   "metadata": {},
   "outputs": [],
   "source": [
    "# # define a random point cloud\n",
    "\n",
    "# n = 100\n",
    "# x = np.random.rand(n)\n",
    "# y = np.random.rand(n)\n",
    "\n",
    "# # plot the point cloud\n",
    "# plt.scatter(x, y)\n",
    "# plt.show()"
   ]
  },
  {
   "cell_type": "code",
   "execution_count": 72,
   "metadata": {},
   "outputs": [],
   "source": [
    "# union find data structure\n",
    "\n",
    "class UnionFind:\n",
    "    def __init__(self, n):\n",
    "        self.parent = np.arange(n)\n",
    "        self.rank = np.zeros(n)\n",
    "    \n",
    "    def find(self, x):\n",
    "        if self.parent[x] != x:\n",
    "            self.parent[x] = self.find(self.parent[x])\n",
    "        return self.parent[x]\n",
    "    \n",
    "    def union(self, x, y):\n",
    "        x_root = self.find(x)\n",
    "        y_root = self.find(y)\n",
    "        \n",
    "        if x_root == y_root:\n",
    "            return\n",
    "        \n",
    "        if self.rank[x_root] < self.rank[y_root]:\n",
    "            self.parent[x_root] = y_root\n",
    "        elif self.rank[x_root] > self.rank[y_root]:\n",
    "            self.parent[y_root] = x_root\n",
    "        else:\n",
    "            self.parent[y_root] = x_root\n",
    "            self.rank[x_root] += 1\n",
    "            \n",
    "    def num_components(self):\n",
    "        return np.sum(self.parent == np.arange(len(self.parent)))"
   ]
  },
  {
   "cell_type": "code",
   "execution_count": 73,
   "metadata": {},
   "outputs": [],
   "source": [
    "# define a function to compute the distance between two points\n",
    "def dist2d(a, b):\n",
    "    return np.sqrt((x[a] - x[b])**2 + (y[a] - y[b])**2)"
   ]
  },
  {
   "cell_type": "code",
   "execution_count": 74,
   "metadata": {},
   "outputs": [],
   "source": [
    "def plotGraph(dist):\n",
    "    plt.scatter(x, y)\n",
    "    for i in range(n):\n",
    "        for j in range(i+1, n):\n",
    "            if dist2d(i, j) < dist:\n",
    "                plt.plot([x[i], x[j]], [y[i], y[j]], 'k-')\n",
    "    plt.show()"
   ]
  },
  {
   "cell_type": "code",
   "execution_count": null,
   "metadata": {},
   "outputs": [],
   "source": [
    "distances = np.arange(0, 1.05, 0.01)[1:]\n",
    "\n",
    "u = UnionFind(n)\n",
    "\n",
    "results = []\n",
    "\n",
    "for iteration, dist in enumerate(distances):\n",
    "    for i in range(n):\n",
    "        for j in range(i+1, n):\n",
    "            if dist2d(i, j) <= dist:\n",
    "                u.union(i, j)\n",
    "    \n",
    "    num_components = u.num_components()\n",
    "    if num_components <= 1:\n",
    "        break\n",
    "    \n",
    "    results.append((dist, num_components))\n",
    "    if iteration % math.floor(len(distances) / 150) == 0:\n",
    "        plotGraph(dist)"
   ]
  },
  {
   "cell_type": "code",
   "execution_count": null,
   "metadata": {},
   "outputs": [],
   "source": [
    "plt.plot(*zip(*results))\n",
    "plt.xlabel('distance')\n",
    "plt.ylabel('number of components')\n",
    "plt.show()"
   ]
  },
  {
   "cell_type": "code",
   "execution_count": null,
   "metadata": {},
   "outputs": [],
   "source": []
  }
 ],
 "metadata": {
  "kernelspec": {
   "display_name": "Python 3",
   "language": "python",
   "name": "python3"
  },
  "language_info": {
   "codemirror_mode": {
    "name": "ipython",
    "version": 3
   },
   "file_extension": ".py",
   "mimetype": "text/x-python",
   "name": "python",
   "nbconvert_exporter": "python",
   "pygments_lexer": "ipython3",
   "version": "3.9.6"
  }
 },
 "nbformat": 4,
 "nbformat_minor": 2
}
