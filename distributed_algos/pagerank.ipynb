{
 "cells": [
  {
   "cell_type": "code",
   "execution_count": 1,
   "metadata": {},
   "outputs": [],
   "source": [
    "import numpy as np"
   ]
  },
  {
   "cell_type": "code",
   "execution_count": 4,
   "metadata": {},
   "outputs": [
    {
     "data": {
      "text/plain": [
       "[[0, 0.3333333333333333, 0.5, 0],\n",
       " [0.5, 0, 0.5, 0],\n",
       " [0.5, 0.3333333333333333, 0, 0.5],\n",
       " [0, 0.3333333333333333, 0, 0]]"
      ]
     },
     "execution_count": 4,
     "metadata": {},
     "output_type": "execute_result"
    }
   ],
   "source": [
    "adj = {\n",
    "    0: [1, 2],\n",
    "    1: [0, 2, 3],\n",
    "    2: [0, 1],\n",
    "    3: [2, 4],\n",
    "}\n",
    "\n",
    "# L(i, j) = links from page j to i / number of outbound links from page j = 1 / |N(i)| if j in N(i) else 0\n",
    "\n",
    "L = []\n",
    "\n",
    "for i in range(4):\n",
    "    r = []\n",
    "    for j in range(4):\n",
    "        if i in adj[j]:\n",
    "            r.append(1/len(adj[j]))\n",
    "        else:\n",
    "            r.append(0)\n",
    "    L.append(r)\n",
    "\n",
    "L"
   ]
  },
  {
   "cell_type": "code",
   "execution_count": 17,
   "metadata": {},
   "outputs": [
    {
     "data": {
      "text/plain": [
       "array([0.19161502, 0.21276733, 0.22077869, 0.09778408])"
      ]
     },
     "execution_count": 17,
     "metadata": {},
     "output_type": "execute_result"
    }
   ],
   "source": [
    "d = 0.85\n",
    "M = np.array(L)\n",
    "v = np.array([1, 1, 1, 1])\n",
    "for i in range(100):\n",
    "    v = d * M @ v + (1 - d) / 4\n",
    "v\n"
   ]
  },
  {
   "cell_type": "code",
   "execution_count": 12,
   "metadata": {},
   "outputs": [
    {
     "data": {
      "text/plain": [
       "array([0.15411502, 0.17526733, 0.18327869, 0.06028408])"
      ]
     },
     "execution_count": 12,
     "metadata": {},
     "output_type": "execute_result"
    }
   ],
   "source": [
    "d * M @ v "
   ]
  },
  {
   "cell_type": "code",
   "execution_count": null,
   "metadata": {},
   "outputs": [],
   "source": []
  }
 ],
 "metadata": {
  "kernelspec": {
   "display_name": "Python 3",
   "language": "python",
   "name": "python3"
  },
  "language_info": {
   "codemirror_mode": {
    "name": "ipython",
    "version": 3
   },
   "file_extension": ".py",
   "mimetype": "text/x-python",
   "name": "python",
   "nbconvert_exporter": "python",
   "pygments_lexer": "ipython3",
   "version": "3.9.6"
  }
 },
 "nbformat": 4,
 "nbformat_minor": 2
}
