{
 "cells": [
  {
   "cell_type": "code",
   "execution_count": 14,
   "metadata": {},
   "outputs": [],
   "source": [
    "import numpy as np\n",
    "import matplotlib.pyplot as plt"
   ]
  },
  {
   "cell_type": "code",
   "execution_count": 28,
   "metadata": {},
   "outputs": [],
   "source": [
    "points = [[0,0], [1,0], [1,1], [0,1]]\n",
    "edges = [[0,1], [1,3], [3,0], [3,2], [2,1]]\n",
    "triangles = [[0,1,3], [1,2,3]]\n",
    "\n",
    "planar_points = [[0.5,0], [1,0], [0.6,0.6], [0,1]]\n",
    "\n",
    "points = np.array(points)\n",
    "edges = np.array(edges)\n",
    "triangles = np.array(triangles)\n",
    "planar_points = np.array(planar_points)"
   ]
  },
  {
   "cell_type": "code",
   "execution_count": null,
   "metadata": {},
   "outputs": [],
   "source": [
    "rho = 1\n",
    "k = 1\n",
    "\n",
    "\n",
    "def triangle_area(triangle, points):\n",
    "    p1 = np.array(points[triangle[0]])\n",
    "    p2 = np.array(points[triangle[1]])\n",
    "    p3 = np.array(points[triangle[2]])\n",
    "    \n",
    "    return 0.5 * np.linalg.norm(np.cross(p2-p1, p3-p1))\n",
    "    \n",
    "\n",
    "# surface mass of a particle\n",
    "def surface_mass(vertex, current_points):\n",
    "    area = 0\n",
    "    for triangle in triangles:\n",
    "        if vertex in triangle:\n",
    "            area += triangle_area(triangle, current_points)\n",
    "    return area * rho / 3\n",
    "\n",
    "\n",
    "def force(vertex, current_points):\n",
    "    f = np.zeros(2)\n",
    "    for edge in edges:\n",
    "        if vertex in edge:\n",
    "            for other in edge:\n",
    "                if other != vertex:\n",
    "                    pi = current_points[vertex]\n",
    "                    pj = current_points[other]\n",
    "                    \n",
    "                    Pi = points[vertex]\n",
    "                    Pj = points[other]\n",
    "                    \n",
    "                    diff = np.abs(pi * pj) - np.abs(Pi * Pj)\n",
    "                    force = diff * (pi-pj)\n",
    "                    print(\"force\", vertex, other, force)\n",
    "                    f += diff * (pi-pj)\n",
    "    return f * k\n",
    "\n",
    "for i in range(len(planar_points)):\n",
    "    force(i, planar_points)\n",
    "    # print(\"force\",i,force(i, planar_points))"
   ]
  },
  {
   "cell_type": "code",
   "execution_count": null,
   "metadata": {},
   "outputs": [],
   "source": [
    "def total_area(p):\n",
    "    area = 0\n",
    "    for triangle in triangles:\n",
    "        area += triangle_area(triangle, p)\n",
    "    return area\n",
    "\n",
    "def total_length(p):\n",
    "    length = 0\n",
    "    for edge in edges:\n",
    "        length += np.linalg.norm(p[edge[0]] - p[edge[1]])\n",
    "    return length\n",
    "\n",
    "actual_area = total_area(points)\n",
    "actual_length = total_length(points)\n",
    "\n",
    "print(\"Actual area: \", actual_area)\n",
    "print(\"Actual length: \", actual_length)"
   ]
  },
  {
   "cell_type": "code",
   "execution_count": null,
   "metadata": {},
   "outputs": [],
   "source": [
    "iterations = 100000\n",
    "dt = 0.01\n",
    "area_error = 0.001\n",
    "length_error = 0.001\n",
    "index = 0\n",
    "\n",
    "current_points = np.array(planar_points)\n",
    "\n",
    "\n",
    "def can_stop(current_points):\n",
    "    return np.abs(total_area(current_points) - actual_area) < area_error and np.abs(total_length(current_points) - actual_length) < length_error\n",
    "\n",
    "while index < iterations and not can_stop(current_points):\n",
    "    for vertex in range(len(points)):\n",
    "        a = force(vertex, current_points) / surface_mass(vertex, current_points)\n",
    "        v = a * dt\n",
    "        current_points[vertex] += v * dt\n",
    "    index += 1\n",
    "\n",
    "index\n",
    "print(current_points)"
   ]
  },
  {
   "cell_type": "code",
   "execution_count": null,
   "metadata": {},
   "outputs": [],
   "source": [
    "plt.plot(points[edges].T[0], points[edges].T[1], 'r')\n",
    "plt.plot(planar_points[edges].T[0], planar_points[edges].T[1], 'g')\n",
    "plt.plot(current_points[edges].T[0], current_points[edges].T[1], 'b')"
   ]
  },
  {
   "cell_type": "code",
   "execution_count": null,
   "metadata": {},
   "outputs": [],
   "source": [
    "for i in range(len(current_points)):\n",
    "    force(i, current_points)"
   ]
  },
  {
   "cell_type": "code",
   "execution_count": null,
   "metadata": {},
   "outputs": [],
   "source": [
    "vertex = 2\n",
    "other = 3\n",
    "pi = current_points[vertex]\n",
    "pj = current_points[other]\n",
    "\n",
    "Pi = points[vertex]\n",
    "Pj = points[other]\n",
    "\n",
    "print(\"pi\", pi)\n",
    "print(\"pj\", pj)\n",
    "print(\"Pi\", Pi)\n",
    "print(\"Pj\", Pj)\n",
    "\n",
    "diff = np.abs(pi * pj) - np.abs(Pi * Pj)\n",
    "print(\"diff\", diff)\n",
    "print(pi - pj)\n",
    "force = diff * (pi-pj)\n",
    "print(\"force\", vertex, other, force)\n",
    "# f += diff * (pi-pj)"
   ]
  },
  {
   "cell_type": "code",
   "execution_count": null,
   "metadata": {},
   "outputs": [],
   "source": []
  }
 ],
 "metadata": {
  "kernelspec": {
   "display_name": "Python 3",
   "language": "python",
   "name": "python3"
  },
  "language_info": {
   "codemirror_mode": {
    "name": "ipython",
    "version": 3
   },
   "file_extension": ".py",
   "mimetype": "text/x-python",
   "name": "python",
   "nbconvert_exporter": "python",
   "pygments_lexer": "ipython3",
   "version": "3.9.6"
  }
 },
 "nbformat": 4,
 "nbformat_minor": 2
}
